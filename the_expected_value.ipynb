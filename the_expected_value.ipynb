{
 "cells": [
  {
   "cell_type": "markdown",
   "metadata": {},
   "source": [
    "## The standard error for the sample average\n",
    "\n",
    "If we sample an adult male at random, then we expect his height to be around the population average $\\mu$, give or take about one standard deviation $\\sigma$.\n",
    "\n",
    "The **expected value** of one random draw is the population average $\\mu$. How about $\\tilde{x}_n$, the average of $n$ draws?\n",
    "\n",
    "The expected value of the sample average, $E(\\tilde{x}_n)$, is the population average $\\mu$.\n",
    "\n",
    "But remenber that $\\tilde{x}_n$ is a random variablae because sampling is a random process. So $\\tilde{x}_n$ won't be exactly equal to $\\mu = 69.3{~}in$: We might get, say, $\\tilde{x}_n = 70.1{~}in$. Taking another sample of size $n$ might result in $\\tilde{x}_n = 69.1{~}in$.\n",
    "\n",
    "How far off from $\\mu$ will $\\tilde{x}_n$ be?\n",
    "\n",
    "The **standard error (SE)** of a statistic tells rougly how far off the statistic will be from its expected value.\n",
    "\n",
    "So the SE for a statistic plays the same role that the standard deviation $\\sigma$ plays for one observation drawn at random.\n",
    "\n",
    "The **square root law** is key for statistical inference:\n",
    "\n",
    "$$SE(\\tilde{x}_n) = \\frac{\\sigma}{\\sqrt{n}}$$\n",
    "\n",
    "The accuracy of $\\tilde{x}_n$ as an estimator of $\\mu$ is inversely proportional to the square root of the sample size $n$.\n",
    "\n",
    "The importance of the square root law is twofold:\n",
    "\n",
    "* It shows that the SE becomes smaller if we use a larger sample size $n$.\n",
    "\n",
    "* The formula for the standard error **does not depend on the size of the population**, only on the size of the sample."
   ]
  }
 ],
 "metadata": {
  "interpreter": {
   "hash": "a1d94efe1d24309af45bba615405940b5dd5269e664316980b8e9835ad845ce9"
  },
  "kernelspec": {
   "display_name": "Python 3.8.10 64-bit ('statistics': virtualenv)",
   "language": "python",
   "name": "python3"
  },
  "language_info": {
   "name": "python",
   "version": "3.8.10"
  },
  "orig_nbformat": 4
 },
 "nbformat": 4,
 "nbformat_minor": 2
}

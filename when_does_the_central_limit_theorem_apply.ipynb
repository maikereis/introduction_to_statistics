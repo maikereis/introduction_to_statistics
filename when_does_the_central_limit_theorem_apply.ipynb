{
 "cells": [
  {
   "cell_type": "markdown",
   "metadata": {},
   "source": [
    "## When does the Central Limit Theorem Apply?\n",
    "\n",
    "For the normal approximation to work, the key requirements are:\n",
    "\n",
    "* We sample with replacement, or we simulate independent random variables from the same distribution.\n",
    "\n",
    "* The statistic of interest is a sum (averages and percentages are sum in disguise).\n",
    "\n",
    "* The sample size is large enough: the more skewed the population histogram is, the larger the required sample size $n$.\n",
    "(if there is no strong skewness then $n$>15 is sufficient)"
   ]
  }
 ],
 "metadata": {
  "interpreter": {
   "hash": "a1d94efe1d24309af45bba615405940b5dd5269e664316980b8e9835ad845ce9"
  },
  "kernelspec": {
   "display_name": "Python 3.8.10 64-bit ('statistics': virtualenv)",
   "language": "python",
   "name": "python3"
  },
  "language_info": {
   "name": "python",
   "version": "3.8.10"
  },
  "orig_nbformat": 4
 },
 "nbformat": 4,
 "nbformat_minor": 2
}

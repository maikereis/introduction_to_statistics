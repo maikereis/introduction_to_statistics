{
 "cells": [
  {
   "cell_type": "markdown",
   "metadata": {},
   "source": [
    "## The Binomial Formula\n",
    "\n",
    "Applying this coefficient in the binomial setting gives:\n",
    "\n",
    "$P$($k$ success in $n$ experiments) = ${\\frac{n!}{k!\\times{(n-k)!}}}p^{k}(1-p)^{(n-k)}$\n",
    "\n",
    "You play an online game 10 times. Each time there are three possible outcomes:\n",
    "\n",
    "$P$(win a big prize) = 10%, $P$(win a small prize) = 20%, $P$(win nothing)=70%.\n",
    "\n",
    "What is P(win two small prizes)?\n",
    "\n",
    "We can refactor the problem as:\n",
    "\n",
    "$P$(success) = $P$(win small prize) = 20%\n",
    "\n",
    "$P$(failure) = $P$(not win a small prize) = 80%\n",
    "\n",
    "We can use the Binomial Probability Formula:\n",
    "\n",
    "$P$(2 success in 10 experiments) $={\\frac{10!}{2!\\times{(10-2)!}}}0.2^{2}(1-0.2)^{(10-2)}$\n",
    "\n",
    "$={\\frac{10\\times9\\times8!}{2!\\times{8!}}}0.2^{2}(0.8)^{8}$\n",
    "\n",
    "$=45\\times0.2^{2}(0.8)^{8}$\n",
    "\n",
    "$=30.2 \\% $\n",
    "\n",
    "\n"
   ]
  }
 ],
 "metadata": {
  "interpreter": {
   "hash": "a1d94efe1d24309af45bba615405940b5dd5269e664316980b8e9835ad845ce9"
  },
  "kernelspec": {
   "display_name": "Python 3.8.10 64-bit ('statistics': virtualenv)",
   "language": "python",
   "name": "python3"
  },
  "language_info": {
   "name": "python",
   "version": "3.8.10"
  },
  "orig_nbformat": 4
 },
 "nbformat": 4,
 "nbformat_minor": 2
}

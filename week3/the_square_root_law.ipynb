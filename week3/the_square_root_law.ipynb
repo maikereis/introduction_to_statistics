{
 "cells": [
  {
   "cell_type": "markdown",
   "metadata": {},
   "source": [
    "## Applying the Square Root Law\n",
    "\n",
    "Toss a coin 100 times. How many 'tails' do you expect to see? Give or take how many?\n",
    "\n",
    "$1 = Tails, 0 = Heads. {~}P(1) = \\frac{1}{2}, P(0) = \\frac{1}{2}$\n",
    "\n",
    "$Number{~}of{~}Tails{~}={~}Sum{~}of{~}100{~}draws$\n",
    "\n",
    "---\n",
    "\n",
    "$E(Sum) = 100\\times \\mu  {~~~~~} \\rightarrow  {~~~~~}\\mu = 0 \\times P(0) + 1 \\times P(1) = \\frac{1}{2}$\n",
    "\n",
    "$E(Sum) = 50$\n",
    "\n",
    "---\n",
    "\n",
    "Give or take:\n",
    "\n",
    "$SE(Sum) = \\sqrt{100} \\times \\sigma$\n",
    "\n",
    "$ \\sigma^2 = (0 - \\frac{1}{2})^2 \\times {\\frac{1}{2}} + (1 - \\frac{1}{2})^2 \\times {\\frac{1}{2}} = \\frac{1}{4} {~~~~~} \\rightarrow  {~~~~~} \\sigma= \\frac{1}{2} $\n",
    "\n",
    "$SE(Sum) = \\sqrt{100} \\times \\frac{1}{2} = 5  {~~~~~~~~~~~~~} SE(Percentage) = \\frac{\\frac{1}{2}}{\\sqrt{100}} = 0.05 = 5\\%$"
   ]
  }
 ],
 "metadata": {
  "interpreter": {
   "hash": "a1d94efe1d24309af45bba615405940b5dd5269e664316980b8e9835ad845ce9"
  },
  "kernelspec": {
   "display_name": "Python 3.8.10 64-bit ('statistics': virtualenv)",
   "language": "python",
   "name": "python3"
  },
  "language_info": {
   "name": "python",
   "version": "3.8.10"
  },
  "orig_nbformat": 4
 },
 "nbformat": 4,
 "nbformat_minor": 2
}

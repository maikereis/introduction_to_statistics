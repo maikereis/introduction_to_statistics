{
 "cells": [
  {
   "cell_type": "markdown",
   "metadata": {},
   "source": [
    "## The Sampling Distribution\n",
    "\n",
    "Toss a coin 100 times. The number of tails has the following possible outcomes:\n",
    "0, 1, 2,...,100.\n",
    "\n",
    "How likely is each outcome?\n",
    "\n",
    "The number of tails has the binomial distribution with $n = 100$ and $p = 0.5$. ('success' = coin lands tails)\n",
    "\n",
    "So if the statistic of interest is $S_n$ = 'number of tails', then $S_n$ is a random variables whose probability histogram is given by the binomial distribution. This is called the sampling distribution of the statistic $S_n$.\n",
    "\n",
    "The sampling distribution of $S_n$ provides more detailed information about the chance properties of $S_n$ than the summary numbers given by the expected value and the standard error."
   ]
  }
 ],
 "metadata": {
  "interpreter": {
   "hash": "a1d94efe1d24309af45bba615405940b5dd5269e664316980b8e9835ad845ce9"
  },
  "kernelspec": {
   "display_name": "Python 3.8.10 64-bit ('statistics': virtualenv)",
   "language": "python",
   "name": "python3"
  },
  "language_info": {
   "name": "python",
   "version": "3.8.10"
  },
  "orig_nbformat": 4
 },
 "nbformat": 4,
 "nbformat_minor": 2
}

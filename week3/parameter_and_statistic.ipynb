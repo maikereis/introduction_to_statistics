{
 "cells": [
  {
   "cell_type": "markdown",
   "metadata": {},
   "source": [
    "## Parameter and Statistic\n",
    "\n",
    "What is the average height of adult men in the US?\n",
    "\n",
    "This is difficult to evaluate as there are 120 million adult men, but it can be estimated quite well with a relatively small sample.\n",
    "\n",
    "The **population** consistis of all adult in the US (about 120 million).\n",
    "\n",
    "A **parameter** is a quantity of interest about the population: the population average $\\mu$, or the population standard deviation $\\sigma$.\n",
    "\n",
    "A **statistic (estimate)** is the quantity of interest as measured in the sample: the sample average $\\tilde{x}$, or the sample standard deviation $s$"
   ]
  }
 ],
 "metadata": {
  "interpreter": {
   "hash": "a1d94efe1d24309af45bba615405940b5dd5269e664316980b8e9835ad845ce9"
  },
  "kernelspec": {
   "display_name": "Python 3.8.10 64-bit ('statistics': virtualenv)",
   "language": "python",
   "name": "python3"
  },
  "language_info": {
   "name": "python",
   "version": "3.8.10"
  },
  "orig_nbformat": 4
 },
 "nbformat": 4,
 "nbformat_minor": 2
}

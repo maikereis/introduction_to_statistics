{
 "cells": [
  {
   "cell_type": "markdown",
   "metadata": {},
   "source": [
    "## Expected Value & Standard Error for the sum\n",
    "\n",
    "What is we are interested in the sum of the $n$ draws, $S_n$, rather than the average $\\tilde{x}_n$?\n",
    "\n",
    "The sum and the average are relate by $S_n = n\\tilde{x}_n$.\n",
    "\n",
    "Both the expected value and the standard error can likewise be obtained by multiplying by $n$, therefore\n",
    "\n",
    "$$E(S_n) = n\\mu {~~~~~~~} SE(S_n) = \\sqrt{n\\sigma}$$\n",
    "\n",
    "So the variability of the sum of $n$ draws increases at the rate $\\sqrt{n}$.\n",
    "\n",
    "What percentage of likely voters approve of the way the US President is handling his job?\n",
    "\n",
    "The 'percentage of likely voters' is an average. This becomes clear by using the **framework for counting and classifying**:\n",
    "\n",
    "* The population consists of all likely voters (about 140 million).\n",
    "\n",
    "* Each likely voter fall into one of two categories: approve or not approve.\n",
    "\n",
    "* Put the label '1' on each likely voter who approves, and '0' on each who doesn't.\n",
    "\n",
    "* Then the number of likely voters who approve equals the sum of all 140 million labels.\n",
    "\n",
    " 1 + 0 + 0 + 1 + 0 = 2\n",
    "\n",
    "* The percentage of likely voters who approve is the percentage of 1s among the labels\n",
    "\n",
    "In the sample of $n$ likely voters\n",
    "\n",
    "* The number of voters in the sample who are approving is the sum $S_n$ of the draws\n",
    "\n",
    "* The percentage of voters approving is the percentage of 1s, which is:\n",
    "\n",
    " $\\frac{S_n}{n} \\times 100\\% = \\tilde{x}_n \\times 100 \\%$\n",
    "\n",
    "Therefore \n",
    "\n",
    "$$ E(percentage{~}of{~}1s) = \\mu \\times 100 \\%  {~~~~~~~~~} SE(percentage{~}of{~}1s) = {\\frac{\\sigma}{\\sqrt{n} } \\times 100\\%} $$\n",
    "\n",
    "where $\\mu$ is the population average (equals the proportion of 1s) and $\\sigma$ is the standard deviation of the population of 0s and 1s.\n",
    "\n",
    "All the above formular are also true when the data are simulated, i.e. generated according to a probability histogram.\n"
   ]
  }
 ],
 "metadata": {
  "interpreter": {
   "hash": "a1d94efe1d24309af45bba615405940b5dd5269e664316980b8e9835ad845ce9"
  },
  "kernelspec": {
   "display_name": "Python 3.8.10 64-bit ('statistics': virtualenv)",
   "language": "python",
   "name": "python3"
  },
  "language_info": {
   "name": "python",
   "version": "3.8.10"
  },
  "orig_nbformat": 4
 },
 "nbformat": 4,
 "nbformat_minor": 2
}

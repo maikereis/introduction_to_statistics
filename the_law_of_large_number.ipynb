{
 "cells": [
  {
   "cell_type": "markdown",
   "metadata": {},
   "source": [
    "## The Large of Large Numbers\n",
    "\n",
    "The square root law says that $SE(\\tilde{x}_n)$, the standard error of the sample mean, goes to zero as the sample size increases.\n",
    "\n",
    "Therefore the sample mean $\\tilde{x}_n$ will likely be close to its expected value $\\mu$ if the sample size is large. This is the **law of large numbers**.\n",
    "\n",
    "Keep in mind that the law of large numbers applies\n",
    "\n",
    "* For averages and therefore also for percentages, but not for sums as their SE increases.\n",
    "\n",
    "* For sampling with replacement form a population, or for simulating data from a probability histogram.\n",
    "\n",
    "More advanced versions of the law of large numbers state that the empirical histogram of the data (the histogram in 2. in the previous section) will be close to the probability histogram in 1. if the sample size is large."
   ]
  }
 ],
 "metadata": {
  "interpreter": {
   "hash": "a1d94efe1d24309af45bba615405940b5dd5269e664316980b8e9835ad845ce9"
  },
  "kernelspec": {
   "display_name": "Python 3.8.10 64-bit ('statistics': virtualenv)",
   "language": "python",
   "name": "python3"
  },
  "language_info": {
   "name": "python",
   "version": "3.8.10"
  },
  "orig_nbformat": 4
 },
 "nbformat": 4,
 "nbformat_minor": 2
}

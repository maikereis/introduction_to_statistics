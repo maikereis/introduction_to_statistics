{
 "cells": [
  {
   "cell_type": "markdown",
   "metadata": {},
   "source": [
    "## The Monte Carlo method\n",
    "\n",
    "What is the average height of all people living in the United States?\n",
    "\n",
    "This is difficult to determine exactly but can easily be estimated quite well:<br>\n",
    "Sample $n=100$ (say) people at random. Then use the average height of these $n$ people as an estimate of the average height of all people in the US.\n",
    "\n",
    "This is an example of the general problem where we are interested in a unknown **parameter** $\\theta$ of a population.\n",
    "\n",
    "We estimate $\\theta$ with a statistic (**estimator**) $\\hat{\\theta}$ which is based on a sample of $n$ observations $X_1, ..., X_n$ drawn at random from the population:\n",
    "\n",
    "$\\hat{\\theta}=$ average of the sample $=\\frac{1}{n}\\sum_{i=1}^{n}X_i$\n",
    "\n",
    "$\\hat{\\theta}=\\frac{1}{n}\\sum_{i=1}^{n}X_i$ tends to be close to the uncomputable population mean $\\theta$, even for moderate sample sizes such as $n=100$.\n",
    "\n",
    "This example is a special case of the **Monte Carlo Method** or **Simulation**:\n",
    "\n",
    "* We approximate a fixed quantity $\\theta$ by the average of independent randdom variables that have expected value $\\theta$.\n",
    "\n",
    "* By the law of large numbers, the approximation error can be made arbitrarily small by using a large enough sample size.\n",
    "\n",
    "The Monte Carlo Method can also be used for more involved quantities. For example, we can use it to compute the standard error (SE) of a statistic $\\hat{\\theta}$.\n",
    "\n",
    "Recal that the standard error tells roughly how far off the statistic will be from its expected value. The precise definition is\n",
    "\n",
    "$$SE(\\hat{\\theta}) = \\sqrt{E(\\hat{\\theta} - E(\\hat{\\theta}))^2}$$\n",
    "\n",
    "* Get many (say 1,000) samples of 100 observations each.\n",
    "\n",
    "* Compute $\\hat{\\theta}$ for each sample, resulting in 1,000 estimates $\\hat{\\theta}_1, ..., \\hat{\\theta}_{1000}$\n",
    "\n",
    "* Compute the standard deviation of these 1,000 estimates:\n",
    "\n",
    "$$s(\\hat{\\theta}_1,...,\\hat{\\theta}_{1000})=\\sqrt{\\frac{1}{999}\\sum_{i=1}^{1000}(\\hat{\\theta}_i - avg(\\hat{\\theta}_i))^2}$$\n",
    "\n",
    "Note that this is not an average of independent random variables. But it can be shown that the law of large numbers still applies and Monte Carlo works:\n",
    "\n",
    "$$s(\\hat{\\theta}_1,...,\\hat{\\theta}_{1000}) \\approx SE(\\hat{\\theta})$$\n",
    "\n",
    "We can use Monte Carlo only if we can draw manny samples of size 100!"
   ]
  }
 ],
 "metadata": {
  "interpreter": {
   "hash": "a1d94efe1d24309af45bba615405940b5dd5269e664316980b8e9835ad845ce9"
  },
  "kernelspec": {
   "display_name": "Python 3.8.10 ('statistics')",
   "language": "python",
   "name": "python3"
  },
  "language_info": {
   "codemirror_mode": {
    "name": "ipython",
    "version": 3
   },
   "file_extension": ".py",
   "mimetype": "text/x-python",
   "name": "python",
   "nbconvert_exporter": "python",
   "pygments_lexer": "ipython3",
   "version": "3.8.10"
  },
  "orig_nbformat": 4
 },
 "nbformat": 4,
 "nbformat_minor": 2
}

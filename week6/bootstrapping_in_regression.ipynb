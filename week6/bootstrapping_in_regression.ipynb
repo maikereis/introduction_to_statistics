{
 "cells": [
  {
   "cell_type": "markdown",
   "metadata": {},
   "source": [
    "## Boostraping for Regression\n",
    "\n",
    "We have data $(X_1, Y_1),...,(X_n, Y_n)$ from the simple linear regression model\n",
    "\n",
    "$$Y_i = \\sigma + bX_i + e_i$$\n",
    "\n",
    "From the data we can compute estimates $\\hat{a}, \\hat{b}$. How can we use the boostrap to get standard errors and confidence intervals?\n",
    "\n",
    "* Compute the residuals $\\hat{e}_i = Y_i - \\hat{a} - \\hat{b}X_i$\n",
    "\n",
    "* Resample from those residuals to get $e_1^*,...,e_n^*$\n",
    "\n",
    "* Compute the boostrapped responses $Y_i^* = \\hat{a} + \\hat{b}X_i + e_i^*$\n",
    "\n",
    "This gives a boostrap sample $(X_1, Y_1^*),...,(X_n, Y_n^*)$, from which we can estimate the parameters $\\hat{a}^*$ and $\\hat{b}^*$ in the usual way."
   ]
  }
 ],
 "metadata": {
  "interpreter": {
   "hash": "a1d94efe1d24309af45bba615405940b5dd5269e664316980b8e9835ad845ce9"
  },
  "kernelspec": {
   "display_name": "Python 3.8.10 ('statistics')",
   "language": "python",
   "name": "python3"
  },
  "language_info": {
   "name": "python",
   "version": "3.8.10"
  },
  "orig_nbformat": 4
 },
 "nbformat": 4,
 "nbformat_minor": 2
}

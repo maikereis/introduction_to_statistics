{
 "cells": [
  {
   "cell_type": "markdown",
   "metadata": {},
   "source": [
    "## Categorical Data\n",
    "\n",
    "In 1912 the Titanic sank and more than 1,500 of the 2,229 people on board died. Did the chances of survival depend on the ticket class?\n",
    "\n",
    "|   | First | Seconds | Third | Crew\n",
    "|:--:|:--:|:---:|:--:|:--:|\n",
    "|Survived | 202 | 118 | 178 | 215 |\n",
    "| Died | 123 | 167 | 528 | 698 |\n",
    "\n",
    "This is an example of **categorical data**: the data are counts for a fixed number of categories. Here the data are tabulated in a $2\\times{4}$ **table**.\n",
    "\n",
    "Such a table is called a **contingency table** because it shows the survival counts for each category of ticket class, i.e. contingent on ticket class.\n",
    "\n",
    "We will look at three problems involving categorical data: testing goodness-of-fit testing homogeneity, an testing independence.\n"
   ]
  }
 ],
 "metadata": {
  "interpreter": {
   "hash": "a1d94efe1d24309af45bba615405940b5dd5269e664316980b8e9835ad845ce9"
  },
  "kernelspec": {
   "display_name": "Python 3.8.10 ('statistics')",
   "language": "python",
   "name": "python3"
  },
  "language_info": {
   "name": "python",
   "version": "3.8.10"
  },
  "orig_nbformat": 4
 },
 "nbformat": 4,
 "nbformat_minor": 2
}

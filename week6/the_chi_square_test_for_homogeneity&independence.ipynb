{
 "cells": [
  {
   "cell_type": "code",
   "execution_count": 1,
   "metadata": {},
   "outputs": [],
   "source": [
    "import numpy as np\n",
    "import seaborn as sns\n",
    "from scipy.stats import chi2\n",
    "import matplotlib.pyplot as plt\n",
    "plt.style.use('ggplot')\n",
    "plt.rcParams[\"figure.figsize\"] = (10,6)"
   ]
  },
  {
   "cell_type": "markdown",
   "metadata": {},
   "source": [
    "## Test of Homogeneity"
   ]
  },
  {
   "cell_type": "markdown",
   "metadata": {},
   "source": [
    "Are the color distributions the same for milk chocolate M&Ms, peanut M&Ms, and caramel M&Ms?\n",
    "\n",
    "The $\\chi^2$-**test of homogeneity** tests the null hypothesis that the distribution of a categorical variable (color) is the same for several population (milk, peanut, caramel). It assumes that the samples are drawn independently within and across the populations. To see how the test works, let's look at the survival data for the Titanic.\n",
    "\n",
    "|  | First | Second | Third | Crew |\n",
    "|:---:|:---:|:---:|:---:|:---:|\n",
    "| Survived | 202 | 118 | 178 | 215 |\n",
    "| Died | 123 | 167 | 528 | 698 |\n",
    "\n",
    "Note that in this case we are not sampling from a population: The data are not a random sample of the people on board, rather the data represent the whole population.\n",
    "\n",
    "So in this case the chance process resulting in survival or death is not in the sampling, but the result of the random events occuring when looking for a way out of the ship, getting into a life boat or into the water, being rescued out of the water in time etc.\n",
    "\n",
    "Then the 325 observations about first class passengers represent 325 independent draws from a probability histogram that gives a certain chance for survival. The 285 observations about second class passengers are drawn from the probability histogram for second class passengers, which may be different. The null hypothesis says that the probability of survival is the same for all four probability histograms.\n",
    "\n",
    "In order to compute the table of expeected entries, note that under $H_0$ the probability of survival is the same for all populations. So we can estimate this probability by pooling the data: in total there were 713 survivors among the 2,229 people on board so we estimate the probability of survival as $\\frac{713}{2229}=32\\%$\n",
    "\n",
    "So the expected number of surviving first class passengers is $32\\% \\times 325=104.0$\n",
    "|  | First | Second | Third | Crew |\n",
    "|:---:|:---:|:---:|:---:|:---:|\n",
    "| Survived | 104.0 | 91.2 | 225.8 | 292.1 |\n",
    "| Died | 221.0 | 193.8 | 480.1 | 620.8 |\n",
    "\n",
    "Now we can compute the chi-square statistic over all 8 cells in the table:\n",
    "\n",
    "$$\\chi^2 = \\sum_{all~cells} \\frac{(observed - expected)^2}{expected}$$\n",
    "\n",
    "$$=\\frac{(202-104)^2}{104} + ... = 192.2$$\n",
    "\n",
    "In this case the degrees of freedom <br>\n",
    "= (no. of columns - 1) $\\times$ (no. of rows -1 ) = <br>\n",
    "$(4-1) \\times (2-1)=3$\n"
   ]
  },
  {
   "cell_type": "code",
   "execution_count": 10,
   "metadata": {},
   "outputs": [
    {
     "data": {
      "image/png": "[encoded data removed]",
      "text/plain": [
       "<Figure size 720x432 with 1 Axes>"
      ]
     },
     "metadata": {},
     "output_type": "display_data"
    }
   ],
   "source": [
    "df = 3\n",
    "x = np.arange(0, 200, 0.01)\n",
    "y = chi2.pdf(x, df)\n",
    "ax = sns.lineplot(x=x, y=y, label=r\"$\\chi^2$\", linewidth=4)\n",
    "\n",
    "# Plot the vertical line\n",
    "_ = ax.axvline(192.2, color='k', alpha=0.5, linestyle='--')\n",
    "\n",
    "# Plot the text\n",
    "_ = ax.annotate(f\"p-value: {y[x>192.2].sum():0.2f}%\", xy=(192.2,0.00), xycoords='data',\n",
    "            xytext=(0.6, 0.3), textcoords='axes fraction',\n",
    "            arrowprops=dict(facecolor='gray', shrink=0.1),\n",
    "            horizontalalignment='center', verticalalignment='center',\n",
    "            )\n",
    "\n",
    "# Plot hatched area\n",
    "_ = ax.fill_between(x, y, where=(x > 192.2) , interpolate=True, color='#5fb0c7', hatch= 'x', alpha=0.50)"
   ]
  },
  {
   "cell_type": "markdown",
   "metadata": {},
   "source": [
    "\"So then we have to compare the chi-square value of 192.2, against a chi-square distribution with three degrees of freedom. If you look at the picture, you see that this 192 is all the way out there and there's essentially no area to the right so the p-value is 0%, and that is very strong evidence against the null hypothesis. So the conclusion would be that the chances of survival depended on the ticket class.\""
   ]
  },
  {
   "cell_type": "markdown",
   "metadata": {},
   "source": [
    "## Testing independence"
   ]
  },
  {
   "cell_type": "markdown",
   "metadata": {},
   "source": [
    "Is gender (male/female) related to voting preference (liberal/conservative)?\n",
    "\n",
    "Now we have two categorical variables: gender and voting preference. The null hypothesis is that the two variables are independent. The alternative hypothesis is that there is some kind of association.\n",
    "\n",
    "The chi-square test can be used to test this null hypothesis:\n",
    "After sampling from the population the counts are recorded in a $2 \\times 2$ table. The $\\chi^2$-statistic and p-value are computed exactly as in the case of testing homogeneity.\n",
    "\n",
    "Comparing these two uses of the $\\chi^2$-test:\n",
    "\n",
    "|  | Sample | Research question | \n",
    "|:---:|:---:|:---:|\n",
    "| $\\chi^2$-test of homogeneity | single categorical variable measured on several samples |   Are the groups homogeneous (have the same distribution of the categorical variable)? |\n",
    "| $\\chi^2$-test of independence | two categorical variables measured on one sample |  Are the two categorical variables independent? | "
   ]
  }
 ],
 "metadata": {
  "interpreter": {
   "hash": "986e926b3c9bb5c45697fcb54fe5bcf913ce68d52649ab1937165844f6be5090"
  },
  "kernelspec": {
   "display_name": "Python 3.8.10 ('stats')",
   "language": "python",
   "name": "python3"
  },
  "language_info": {
   "codemirror_mode": {
    "name": "ipython",
    "version": 3
   },
   "file_extension": ".py",
   "mimetype": "text/x-python",
   "name": "python",
   "nbconvert_exporter": "python",
   "pygments_lexer": "ipython3",
   "version": "3.8.10"
  },
  "orig_nbformat": 4
 },
 "nbformat": 4,
 "nbformat_minor": 2
}

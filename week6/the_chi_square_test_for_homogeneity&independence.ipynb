{
 "cells": [
  {
   "cell_type": "code",
   "execution_count": null,
   "metadata": {},
   "outputs": [
    {
     "ename": "",
     "evalue": "",
     "output_type": "error",
     "traceback": [
      "\u001b[1;31mRunning cells with 'Python 3.8.10 ('stats')' requires ipykernel package.\n",
      "Run the following command to install 'ipykernel' into the Python environment. \n",
      "Command: '/home/maike/.envs/stats/bin/python3.8 -m pip install ipykernel -U --force-reinstall'"
     ]
    }
   ],
   "source": [
    "## Test of Homogeneity"
   ]
  }
 ],
 "metadata": {
  "interpreter": {
   "hash": "986e926b3c9bb5c45697fcb54fe5bcf913ce68d52649ab1937165844f6be5090"
  },
  "kernelspec": {
   "display_name": "Python 3.8.10 ('stats')",
   "language": "python",
   "name": "python3"
  },
  "language_info": {
   "name": "python",
   "version": "3.8.10"
  },
  "orig_nbformat": 4
 },
 "nbformat": 4,
 "nbformat_minor": 2
}

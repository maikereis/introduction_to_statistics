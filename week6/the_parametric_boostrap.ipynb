{
 "cells": [
  {
   "cell_type": "markdown",
   "metadata": {},
   "source": [
    "## More about the boostrap\n",
    "\n",
    "The **nonparametric boostrap** simulates a boostrap sample $X_1^*,...,X_n^*$ by drawing with replacement from $X_1,...,X_n$.\n",
    "\n",
    "Sometimes a parametric model is appropriate for the data, e.g. a normal distribution with unknown mean and standar deviation. Then one may be better off with the **parametric boostrap**, which simulates the boostrap samples from this model, using estimates for the unknow parameters.\n",
    "\n",
    "So far, the boostrap samples were drawn independently. If there is dependence in the data (time series), then this needs to be incoporated, e.g. with the **block boostrap**.\n",
    "\n",
    "## Boostrap confidence interval\n",
    "\n",
    "If the sampling distribution of $\\hat{\\theta}$ is approximately normal, then\n",
    "\n",
    "$$[\\hat{\\theta} - z_{\\frac{\\alpha}{2}}SE(\\hat{\\theta}),\\hat{\\theta} + z_{\\frac{\\alpha}{2}}SE(\\hat{\\theta})]$$\n",
    "\n",
    "is an approximate $(1-\\alpha)$-confidence interval for $\\theta$.\n",
    "\n",
    "$SE(\\hat{\\theta})$ can be estimated by the boostrap.\n",
    "\n",
    "If $\\hat{\\theta}$ is far from normal, then we have to use the boostrap to estimate the whole sampling distribution of $\\hat{\\theta}$, not just $SE(\\hat{\\theta})$.\n",
    "\n",
    "The sampling distribution of $\\hat{\\theta}$ can be approximated by that of $\\hat{\\theta}^*$, which in turn can be approximated by the histogram of $\\hat{\\theta}_1^*,...,\\hat{\\theta}_B^*$.\n",
    "\n",
    "This gives the **boostrap percentile interval**\n",
    "\n",
    "$$[\\hat{\\theta}_{\\frac{\\sigma}{2}}, \\hat{\\theta}_{1- \\frac{\\sigma}{2}}]$$\n",
    "\n",
    "where $\\hat{\\theta}_{\\frac{\\sigma}{2}}^*$ is the $\\frac{\\sigma}{2}$ percentile of the $\\hat{\\theta}_1^*,....,\\hat{\\theta}_B^*$\n",
    "\n",
    "An alternative to boostrapping the distribution of $\\hat{\\theta}$ is to do so for $\\hat{\\theta} - \\theta$.\n",
    "\n",
    "This results in the **boostrap pivotal interval**\n",
    "\n",
    "$$[2\\hat{\\theta} - \\hat{\\theta}_{(1- \\frac{\\sigma}{2})}, 2\\hat{\\theta} - \\hat{\\theta}_{(\\frac{\\sigma}{2})}]$$"
   ]
  }
 ],
 "metadata": {
  "interpreter": {
   "hash": "a1d94efe1d24309af45bba615405940b5dd5269e664316980b8e9835ad845ce9"
  },
  "kernelspec": {
   "display_name": "Python 3.8.10 ('statistics')",
   "language": "python",
   "name": "python3"
  },
  "language_info": {
   "name": "python",
   "version": "3.8.10"
  },
  "orig_nbformat": 4
 },
 "nbformat": 4,
 "nbformat_minor": 2
}

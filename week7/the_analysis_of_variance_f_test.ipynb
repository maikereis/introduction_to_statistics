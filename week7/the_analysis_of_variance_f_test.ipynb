{
 "cells": [
  {
   "cell_type": "markdown",
   "metadata": {},
   "source": [
    "## The Analysis of Variance F-test\n",
    "\n",
    "Since we want to compare the variantion between the groups to the variation within the groups we look at the ratio\n",
    "\n",
    "$$F = \\frac{MST}{MSE}$$\n",
    "\n",
    "Under the null hypothesis of equal group means this ratio should be about 1. It will not be exactly 1 due to sampling variability:\n",
    "\n",
    "It follows a $F$-**distribution with** $k-1$ **and** $N-k$ **degrees of freedom**.\n",
    "\n",
    "Large values of $F$ suggest that the variation between the groups is unusually large. We reject $H_0$ if $F$ is in the right $5\\%$ tail, i.e. when the p-value is smaller than $5\\%$.\n",
    "\n",
    "| Source | df | Sum of Squares | Mean Square | $F$ | p-value\n",
    "| :---: | :---:  | :---: | :---: | :---: | :---: |\n",
    "| Treatment | $k-1$ | SST | MST | MST/MSE |\n",
    "| Error | $N-k$ | SSE | MSE |\n",
    "| Total | $N-1$ | TSS |\n",
    "\n",
    "where $ TSS = \\sum_j \\sum_i (y_{ij} - \\bar{\\bar{y}})^2$.\n",
    "\n",
    "For the data of the boxplots in the right display we get a p-value of 0.097, so there is not enough evience to reject $H_0$:\n",
    "\n",
    "| Source | df | Sum of Squares | Mean Square | $F$ | p-value\n",
    "| :---: | :---:  | :---: | :---: | :---: | :---: |\n",
    "| Treatment | 2 | 98.4 | 47.2 | 2.49 | 0.097 |\n",
    "| Error | 38 | 723.8 | 19.1 |\n",
    "| Total | 40 | 822.2 |\n"
   ]
  }
 ],
 "metadata": {
  "interpreter": {
   "hash": "986e926b3c9bb5c45697fcb54fe5bcf913ce68d52649ab1937165844f6be5090"
  },
  "kernelspec": {
   "display_name": "Python 3.8.10 ('stats')",
   "language": "python",
   "name": "python3"
  },
  "language_info": {
   "codemirror_mode": {
    "name": "ipython",
    "version": 3
   },
   "file_extension": ".py",
   "mimetype": "text/x-python",
   "name": "python",
   "nbconvert_exporter": "python",
   "pygments_lexer": "ipython3",
   "version": "3.8.10"
  },
  "orig_nbformat": 4
 },
 "nbformat": 4,
 "nbformat_minor": 2
}

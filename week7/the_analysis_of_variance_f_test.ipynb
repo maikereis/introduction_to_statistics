{
 "cells": [
  {
   "cell_type": "markdown",
   "metadata": {},
   "source": [
    "## The Analysis of Variance F-test\n",
    "\n",
    "Since we want to compare the variantion between the groups to the variation within the groups we look at the ratio\n",
    "\n",
    "$$F = \\frac{MST}{MSE}$$\n",
    "\n",
    "Under the null hypothesis of equal group means this ratio should be about 1. It will not be exactly 1 due to sampling variability:\n",
    "\n",
    "It follows a $F$-**distribution with** $k-1$ **and** $N-k$ **degrees of freedom**.\n",
    "\n",
    "Large values of $F$ suggest that the variation between the groups is unusually large. We reject $H_0$ if $F$ is in the right $5\\%$ tail, i.e. when the p-value is smaller than $5\\%$.\n",
    "\n",
    "| Source | df | Sum of Squares | Mean Square | $F$ | p-value\n",
    "| :---: | :---:  | :---: | :---: | :---: | :---: |\n",
    "| Treatment | $k-1$ | SST | MST | MST/MSE |\n",
    "| Error | $N-k$ | SSE | MSE |\n",
    "| Total | $N-1$ | TSS |\n",
    "\n",
    "where $ TSS = \\sum_j \\sum_i (y_{ij} - \\bar{\\bar{y}})^2$.\n",
    "\n",
    "For the data of the boxplots in the right display we get a p-value of 0.097, so there is not enough evience to reject $H_0$:\n",
    "\n",
    "| Source | df | Sum of Squares | Mean Square | $F$ | p-value\n",
    "| :---: | :---:  | :---: | :---: | :---: | :---: |\n",
    "| Treatment | 2 | 98.4 | 47.2 | 2.49 | 0.097 |\n",
    "| Error | 38 | 723.8 | 19.1 |\n",
    "| Total | 40 | 822.2 |\n",
    "\n",
    "The **one-way ANOVA** model behind this table is\n",
    "\n",
    "$$y_{ij} = \\mu_j + \\epsilon_{ij}$$\n",
    "\n",
    "where $\\mu_j$ is the mean of the $jth$ group and the $\\epsilon_{ij}$ are independent random variables (e.g. measurement error) that follow the normal curve with mean 0 and common variance $\\sigma^2$.\n",
    "\n",
    "So the null hypothesis is $\\mu_1 = \\mu_2 = ... = \\mu_k$.\n",
    "\n",
    "Instead of looking at the group means $\\mu_j$ it is helpful to look at the deviations $ \\tau_j $ from the overall mean $\\mu : \\tau_j = \\mu_j - \\mu$.\n",
    "\n",
    "So the model is<br>\n",
    "\n",
    "$$y_{ij} = \\mu + \\tau_j + \\epsilon_{ij}$$\n",
    "\n",
    "where $\\tau_j$ is called the **treatment effect** of group *j*. Then the null hypothesis becomes<br>\n",
    "$H_0: \\tau_1 = \\tau_2 = ... = \\tau_k = 0$.\n",
    "\n",
    "We estimate the overall mean $\\mu$ by the 'grand mean' $\\bar{y}$. Then the estimate of $\\tau_j  = \\mu_j - \\mu$ becomes $\\bar{y_j} - \\bar{y}$. The estimate of $\\epsilon_{ij}$ is the residual $y_{ij} - \\bar{y}_j$.\n",
    "\n",
    "Corresponding to the model $y_{ij} = \\mu + \\tau_j + \\epsilon_{ij}$ we can write $y_{ij}$ as the sum of the corresponding estimates:\n",
    "\n",
    "$$y_{ij} = \\bar{\\bar{y}} + (\\bar{y}_{ij} - \\bar{\\bar{y}}) + (y_{ij} - \\bar{y})$$\n",
    "\n",
    "It turns out that such a decomposition is also true for the sum of squares:\n",
    "\n",
    "$$(y_{ij} - \\bar{\\bar{y}}) = (\\bar{y}_{ij} - \\bar{\\bar{y}}) + (y_{ij} - \\bar{y})$$\n",
    "\n",
    "squaring the sum's: \n",
    "\n",
    "$$ \\sum_j \\sum_i (y_{ij} - \\bar{\\bar{y}})^2 = \\sum_j \\sum_i (y_{j} - \\bar{\\bar{y}})^2 + \\sum_j \\sum_i (y_{ij} - \\bar{y_j})^2$$\n",
    "\n",
    "$$~~~~~~~~~TSS~~~=~~~~~~~~SST~~~~~~~~~~~~~+~~~~~~~~~~~~~SSE$$\n",
    "\n",
    "This splits the total variation TSS into two 'sources': SST and SSE."
   ]
  }
 ],
 "metadata": {
  "interpreter": {
   "hash": "986e926b3c9bb5c45697fcb54fe5bcf913ce68d52649ab1937165844f6be5090"
  },
  "kernelspec": {
   "display_name": "Python 3.8.10 ('stats')",
   "language": "python",
   "name": "python3"
  },
  "language_info": {
   "codemirror_mode": {
    "name": "ipython",
    "version": 3
   },
   "file_extension": ".py",
   "mimetype": "text/x-python",
   "name": "python",
   "nbconvert_exporter": "python",
   "pygments_lexer": "ipython3",
   "version": "3.8.10"
  },
  "orig_nbformat": 4
 },
 "nbformat": 4,
 "nbformat_minor": 2
}

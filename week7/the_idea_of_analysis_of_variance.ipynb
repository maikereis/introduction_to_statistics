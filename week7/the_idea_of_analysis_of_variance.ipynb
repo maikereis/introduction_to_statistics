{
 "cells": [
  {
   "cell_type": "markdown",
   "metadata": {},
   "source": [
    "## Analysis of Variance"
   ]
  },
  {
   "cell_type": "markdown",
   "metadata": {},
   "source": [
    "Consider these two hypothetical outcomes:\n",
    "\n",
    "<img src=\"imgs/img1.PNG\">\n",
    "\n",
    "| Figure a | Figure b. |\n",
    "| :---: | :---: |\n",
    "|   The difference between the sample means are large relative to the variability within the groups, suggesting that there is a difference in treatment means.  |    The differences between the sample means are small compared to the variability within the groups: It might well be due to chance variability.  | \n",
    "\n",
    "The key idea to make this precise is to compare the sample variance of the means to the sample variance within the groups.\n",
    "\n",
    "That's why this methodology is called Analysis of Variance (ANOVA).\n",
    "\n",
    "But recall that according to the square root law, the chance variability in the sample mean is smaller than the chance variability in the data. So the evidence against $H_0$ is not obvious from the boxplots. Rather, a computation is necessary.\n",
    "\n",
    "We have $k$ groups and the $jth$ group has $n_j$ observations:\n",
    "\n",
    "| group 1| group 2| ... | group k|\n",
    "| :----: | :----: | :----: | :----: |\n",
    "| $y_{11}$ | $y_{12}$ |   ...     | $y_{1k}$ |\n",
    "|    $\\vdots$     |     $\\vdots$       |    $\\vdots$      |    $\\vdots$        |\n",
    "| $y_{{n_1}1}$ | $y_{{n_2}2}$ |    $\\vdots$      | $y_{{n_k}k}$ |\n",
    "\n",
    "In total there are $N = n_1 + ... + n_k$ observations.\n",
    "\n",
    "The sample mean of the $jth$ group is $\\bar{y_j} = \\frac{1}{n_j}\\sum_{i=1}^{n_j} y_{ij}$.\n",
    "\n",
    "The overall sample mean is $\\bar{y}=\\frac{1}{N}\\sum_{i=1}^{n_j} y_{ij}$.\n",
    "\n",
    "The **treatment sum of squares**\n",
    "\n",
    "$$SST = \\sum_j \\sum_i (\\bar{y_j} - \\bar{\\bar{y}})^2$$\n",
    "\n",
    "has $k-1$ degrees of freedom.\n",
    "\n",
    "$$MST = \\frac{SST}{k-1}$$\n",
    "\n",
    "measures the variability of the treatment means $\\bar{y_j}$. The **error sum of squares**\n",
    "\n",
    "$$SSE = \\sum_j \\sum_i (y_ij - \\bar{y_j})^2$$\n",
    "\n",
    "has $N-k$ degrees of freedom.\n",
    "\n",
    "$$MSE = \\frac{SSE}{N-k}$$\n",
    "\n",
    "measures the variability within the groups."
   ]
  }
 ],
 "metadata": {
  "interpreter": {
   "hash": "986e926b3c9bb5c45697fcb54fe5bcf913ce68d52649ab1937165844f6be5090"
  },
  "kernelspec": {
   "display_name": "Python 3.8.10 ('stats')",
   "language": "python",
   "name": "python3"
  },
  "language_info": {
   "codemirror_mode": {
    "name": "ipython",
    "version": 3
   },
   "file_extension": ".py",
   "mimetype": "text/x-python",
   "name": "python",
   "nbconvert_exporter": "python",
   "pygments_lexer": "ipython3",
   "version": "3.8.10"
  },
  "orig_nbformat": 4
 },
 "nbformat": 4,
 "nbformat_minor": 2
}

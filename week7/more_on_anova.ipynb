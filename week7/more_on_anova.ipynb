{
 "cells": [
  {
   "cell_type": "markdown",
   "metadata": {},
   "source": [
    "## More on ANOVA"
   ]
  },
  {
   "cell_type": "markdown",
   "metadata": {},
   "source": [
    "- The F-test assumes that all the groups have the same variance $\\sigma^2$. This can be roughly checked with side-by-side boxplots, and there are also formal tests.\n",
    "\n",
    "- Another assumption was that the data are independent within and across groups. This would be the case if the subjects were assigned to treatment at random.\n",
    "\n",
    "- If the F-test rejects, then we can conclude that the group means are not all equal, but how do they differ?\n",
    "\n",
    "We can examine all pairs of means with a two-sample t-test using $s_{pooled} = \\sqrt{MSE} $. "
   ]
  }
 ],
 "metadata": {
  "interpreter": {
   "hash": "986e926b3c9bb5c45697fcb54fe5bcf913ce68d52649ab1937165844f6be5090"
  },
  "kernelspec": {
   "display_name": "Python 3.8.10 ('stats')",
   "language": "python",
   "name": "python3"
  },
  "language_info": {
   "name": "python",
   "version": "3.8.10"
  },
  "orig_nbformat": 4
 },
 "nbformat": 4,
 "nbformat_minor": 2
}

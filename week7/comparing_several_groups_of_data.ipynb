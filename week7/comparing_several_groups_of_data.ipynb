{
 "cells": [
  {
   "cell_type": "markdown",
   "metadata": {},
   "source": [
    "## Comparing several groups of data\n",
    "\n",
    "Does peer assessment (i.e. a student is grading other student's homework) enhance learning?\n",
    "\n",
    "Students were randomized into three groups, each spending the same amount of time per week on either: homework only, homework and peer assessment, studying without doing homework.\n",
    "\n",
    "The final exam scores were summarized by boxplots:\n",
    "\n",
    "<img src=\"imgs/img0.PNG\">\n",
    "\n",
    "Is there sufficient evidence to conclude that the three treatments result in different outcomes?\n",
    "\n",
    "$H_0$=\"nothing extraordinary is going on\" = all group means are equal.\n",
    "\n",
    "Recall that if we have only two groups, then we can compare them with the two-sample t-test:\n",
    "\n",
    "$$t = \\frac{difference~in~sample~means}{SE~of~difference}$$\n",
    "\n",
    "$t$ compares the size of the difference in sample means to the size of the chance variability as measured by the SE.\n",
    "\n",
    "ANOVA generalizes this idea."
   ]
  }
 ],
 "metadata": {
  "interpreter": {
   "hash": "986e926b3c9bb5c45697fcb54fe5bcf913ce68d52649ab1937165844f6be5090"
  },
  "kernelspec": {
   "display_name": "Python 3.8.10 ('stats')",
   "language": "python",
   "name": "python3"
  },
  "language_info": {
   "codemirror_mode": {
    "name": "ipython",
    "version": 3
   },
   "file_extension": ".py",
   "mimetype": "text/x-python",
   "name": "python",
   "nbconvert_exporter": "python",
   "pygments_lexer": "ipython3",
   "version": "3.8.10"
  },
  "orig_nbformat": 4
 },
 "nbformat": 4,
 "nbformat_minor": 2
}

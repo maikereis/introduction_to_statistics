{
 "cells": [
  {
   "cell_type": "markdown",
   "metadata": {},
   "source": [
    "## Data Snooping and the Multiple Testing Fallacy\n",
    "\n",
    "In 1992 a Swedish study examined whether living near a power line causes adverse health effects. It reported a statistically highly significant increase in childhood leukemia.\n",
    "\n",
    "A careful follow-up analysis failed to confirm this result.\n",
    "\n",
    "Why did the study find a statistically significant result?\n",
    "\n",
    "The study looked at 800 different health effects:\n",
    "\n",
    "There were 800 statistical tests involved.\n",
    "\n",
    "A statistical test summarizes the evidence for an effect by reporting a p-value:\n",
    "\n",
    "A smaller p-value means stronger evidence.\n",
    "\n",
    "p-value < 1% $\\rightarrow$ test is \"highly significant\"\n",
    "\n",
    "Interpretation: if there is no effect, then there is only a 1% chance to get such a highly significant result.\n",
    "\n",
    "So if we do 800 tests, then even if there is no effect at all we expect to see $800\\times 1\\% = 8$ highly significant results just by chance!\n",
    "\n",
    "This is called the **multiple testing fallacy** or **look-elsewhere effect**.\n",
    "\n",
    "When analyzing large amounts of data it is easy to fall into this trap because there are so many potential relationships to explore, which leads to **data snooping (=data dredging)**.\n",
    "\n",
    "## Reproducibility and Replicability\n",
    "\n",
    "Data snooping and other problems have lead to a crisis with regard to **replicability** (getting similar conclusions with different samples, procedures and data analysis methods) and **reproducibility** (getting the same results when using the same data and methods of analysis).\n",
    "\n",
    "- 'How science goes wrong' in The Economist (10/13/2013)\n",
    "\n",
    "- 'Why most published research findings are false' by J. loannidis (2005)"
   ]
  }
 ],
 "metadata": {
  "interpreter": {
   "hash": "986e926b3c9bb5c45697fcb54fe5bcf913ce68d52649ab1937165844f6be5090"
  },
  "kernelspec": {
   "display_name": "Python 3.8.10 ('stats')",
   "language": "python",
   "name": "python3"
  },
  "language_info": {
   "name": "python",
   "version": "3.8.10"
  },
  "orig_nbformat": 4
 },
 "nbformat": 4,
 "nbformat_minor": 2
}

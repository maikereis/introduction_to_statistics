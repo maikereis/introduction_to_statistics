{
 "cells": [
  {
   "cell_type": "markdown",
   "metadata": {},
   "source": [
    "## How can one account for multiple testing?\n",
    "\n",
    "**Bonferroni correction**: If there are $m$ tests, multiply the p-values by $m$.\n",
    "\n",
    "The Bonferroni correction makes sure that P(any of the $m$ tests rejects in error) $\\leq 5\\%$.\n",
    "\n",
    "The Bonferroni correction is often very restrictive. It guards against having even one false positive among the $m$ tests.\n",
    "\n",
    "As a consequence the adjusted p-values may not be significant any more even if a noticeable effect is present.\n",
    "\n",
    "Alternatively, we can try to control the **False Discovery Proportion (FDP)**:\n",
    "\n",
    "$$FDP = \\frac{number~of~false~discoveries}{total~number~of~discoveries}$$\n",
    "\n",
    "where a 'discovery' occurs when a test rejects the null hypothesis.\n",
    "As an example, we test 1,000 hypotheses.\n",
    "\n",
    "<img src=\"imgs/img0.PNG\">\n",
    "\n",
    "In 900 cases the null hypothesis is true (\"Nothing is going on\"), and in 100 cases an alternative hypothesis is true (\"There is an effect: something is going on\").\n",
    "\n",
    "<img src=\"imgs/img1.PNG\">\n",
    "\n",
    "Doing 1,000 tests results in Discoveries and Non-discoveries.\n",
    "\n",
    "Error Type 1 : reject the null hypothesis even though it's true<br>\n",
    "Error Type 2 : fail to reject the null even if the alternative is true\n",
    "\n",
    "\n",
    "\n",
    "\n"
   ]
  }
 ],
 "metadata": {
  "interpreter": {
   "hash": "986e926b3c9bb5c45697fcb54fe5bcf913ce68d52649ab1937165844f6be5090"
  },
  "kernelspec": {
   "display_name": "Python 3.8.10 ('stats')",
   "language": "python",
   "name": "python3"
  },
  "language_info": {
   "codemirror_mode": {
    "name": "ipython",
    "version": 3
   },
   "file_extension": ".py",
   "mimetype": "text/x-python",
   "name": "python",
   "nbconvert_exporter": "python",
   "pygments_lexer": "ipython3",
   "version": "3.8.10"
  },
  "orig_nbformat": 4
 },
 "nbformat": 4,
 "nbformat_minor": 2
}

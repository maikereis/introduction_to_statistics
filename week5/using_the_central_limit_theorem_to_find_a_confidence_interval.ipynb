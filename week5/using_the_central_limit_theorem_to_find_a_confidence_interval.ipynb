{
 "cells": [
  {
   "cell_type": "markdown",
   "metadata": {},
   "source": [
    "## Using the Central Limit Theorem to Find a Confidence Interval\n",
    "\n",
    "A confidence interval gives a range of plausible values for a population parameter $\\mu$. Usually the confidence interval is centered at an estimate for $\\mu$ which is an average.\n",
    "\n",
    "Examples:\n",
    "\n",
    "1. $\\mu$ = approval percentage among all 140 million likely voters. <br> estimate = approval percentage among voters in the sample.\n",
    "\n",
    "2. $\\mu$ = speed of light.<br> estimate = average os 30 measurements.\n",
    "\n",
    "Since the central limit theorem applies for averages, the confidence interval has a simple form:\n",
    "$$estimate{~}\\pm{~}zSE$$\n",
    "\n",
    "where $z$ is the z-score corresponding to the desired confidence level:\n",
    "\n",
    "95% confidence level $\\rightarrow z=1.96$<br>\n",
    "90% confidence level $\\rightarrow z=1.65$<br>\n",
    "99% confidence level $\\rightarrow z=2.58$\n",
    "\n",
    "SE is the standard error os the estimate. If the estimate is an average (e.g. a percentage), then we know that\n",
    "\n",
    "$$SE=\\frac{\\sigma}{\\sqrt{n}}$$\n",
    "\n",
    "where $\\sigma$ is the standard deviation of the population.\n",
    "\n",
    "Now we have a problem: we don't know $\\sigma$ because we don't know all the data in the population (that's the reason why we sample in the first place!)\n",
    "\n",
    "The **bootstrap principle** states that we can estimate $\\sigma$ by its sample version $s$ and still get an approximately correct confidence interval."
   ]
  }
 ],
 "metadata": {
  "interpreter": {
   "hash": "a1d94efe1d24309af45bba615405940b5dd5269e664316980b8e9835ad845ce9"
  },
  "kernelspec": {
   "display_name": "Python 3.8.10 ('statistics')",
   "language": "python",
   "name": "python3"
  },
  "language_info": {
   "name": "python",
   "version": "3.8.10"
  },
  "orig_nbformat": 4
 },
 "nbformat": 4,
 "nbformat_minor": 2
}

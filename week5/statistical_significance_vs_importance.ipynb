{
 "cells": [
  {
   "cell_type": "markdown",
   "metadata": {},
   "source": [
    "## More on Testing\n",
    "\n",
    "Statistically significant does not mean that the effect size is important:\n",
    "\n",
    "Suppose the sample average shows a lead concentration that is only slightly above the health standard of 15 ppb: say the sample average is 15.05 ppb.\n",
    "\n",
    "That may not be of practical concern, even though the test may be highly significant: Statistical significance convinces us that there is an effect, but it doesn't say how big the effect is.\n",
    "\n",
    "Reason: A large sample size $n$ makes SE $=\\frac{\\sigma}{\\sqrt{n}}$ small, so even a small exceedance over the limit by (say) 0.05 ppb may give a statistically significant result.\n",
    "\n",
    "Therefore it is helpful to complement a test with a confidence interval: In the above case a 95% confidence interval for $\\mu$ be $[15.02~ppb, 15.08~ppb]$.\n",
    "\n",
    "There is a general connection between confidence intervals and tests:\n",
    "\n",
    "A 95% confidence interval contains all values for the null hyphothesis that will not be rejected by a two-sided test at a 5% significance level.(A 5% **significance level** means that the threshold for p-values is 5%).\n",
    "\n",
    "There are two ways that a test can result in a wrong decision:\n",
    "\n",
    "$H_0$ is true, but was errouneously rejected $rightarrow$ Type 1 error ('false positive')\n",
    "\n",
    "$H_0$ is false, but we fail to reject it $rightarrow$ Type 2 error\n",
    "\n",
    "Rejecting H_0 if the p-value is smaller than 5% means P(type 1 error) $\\leqslant 5% $"
   ]
  }
 ],
 "metadata": {
  "interpreter": {
   "hash": "a1d94efe1d24309af45bba615405940b5dd5269e664316980b8e9835ad845ce9"
  },
  "kernelspec": {
   "display_name": "Python 3.8.10 ('statistics')",
   "language": "python",
   "name": "python3"
  },
  "language_info": {
   "name": "python",
   "version": "3.8.10"
  },
  "orig_nbformat": 4
 },
 "nbformat": 4,
 "nbformat_minor": 2
}

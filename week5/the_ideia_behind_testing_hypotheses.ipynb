{
 "cells": [
  {
   "cell_type": "markdown",
   "metadata": {},
   "source": [
    "## The Idea Behind Testing Hypotheses\n",
    "\n",
    "We toss a coin 10 times and get 7 tails. Is this sufficient evidence to conclude that the coin is biased?\n",
    "\n",
    "The **null hypothesis**, $H_0$ states that \"nothing extraordinary is going on\". So in this case\n",
    "\n",
    "$H_0: P(T)=\\frac{1}{2}$\n",
    "\n",
    "The **alternative hypothesis**, $H_A$, states that there is a different chance process that generates the data. Here we can take\n",
    "\n",
    "$H_A: P(T) \\neq \\frac{1}{2}$\n",
    "\n",
    "Hypothesis testing proceeds by collecting data and evaluating whether the data are compatible with $H_0$ or not (in which case one rejects $H_0$).\n",
    "\n",
    "A different example: A company develops a new drug to lower blood pressure. It tests it with an exeperiment involving 1,000 patients.\n",
    "\n",
    "In this case \"nothing extraordinary going on\" means that the drug has no effect. So<br>\n",
    "$H_0$: no change in blood pressure  \n",
    "$H_A$: blood pressure drops\n",
    "\n",
    "Note that in this case the company would like to reject $H_0$!\n",
    "\n",
    "So the logic of testing is typically indirect: One assumes that nothing extraordinary is happening and then hopes to reject this assumption $H_0$."
   ]
  }
 ],
 "metadata": {
  "interpreter": {
   "hash": "a1d94efe1d24309af45bba615405940b5dd5269e664316980b8e9835ad845ce9"
  },
  "kernelspec": {
   "display_name": "Python 3.8.10 ('statistics')",
   "language": "python",
   "name": "python3"
  },
  "language_info": {
   "name": "python",
   "version": "3.8.10"
  },
  "orig_nbformat": 4
 },
 "nbformat": 4,
 "nbformat_minor": 2
}

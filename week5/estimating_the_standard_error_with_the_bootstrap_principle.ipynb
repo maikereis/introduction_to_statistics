{
 "cells": [
  {
   "cell_type": "markdown",
   "metadata": {},
   "source": [
    "## Estimating the Standard Error with the Bootstrap Principle\n",
    "\n",
    "The boostrap principle states that we can estimate $\\sigma$ by its sample version $s$ and still get an approximately correct confidence interval.\n",
    "\n",
    "Examples:\n",
    "\n",
    "1. We poll 1,000 likely voters and find that 58% approve of the way the president handles his job.<br>SE $=\\frac{\\sigma}{\\sqrt{n}}\\times 100\\% $, where $\\sigma = \\sqrt{p(1-p)}, p$ = proportion of all voters who approve.<br>\n",
    "\n",
    "    The boostrap principle replaces $\\sigma$ by $s$ = standard deviation of the 0/1 labels in the sample $=\\sqrt{0.58(1-0.58)} =0.49 $.\n",
    "\n",
    "    So a 95% confidence interval for $p$ is<br>\n",
    "\n",
    "    $58\\% \\pm 2\\frac{0.49}{\\sqrt{1000}}$,  which is $[54.9\\%, 61.1\\%]$\n",
    "    \n",
    "<br>\n",
    "\n",
    "2. estimate = average of 30 measurements of the speed of light.<br>\n",
    "    What is the population or probability histogram from which we sample? <br>\n",
    "    The reason we get 30 different measurements is because each is off by a chance error:\n",
    "    $$measurement = speed{~}of{~}light + measurement{~}error$$\n",
    "\n",
    "    The measurement error follows a probability histogram that is unknown to us. We estimate the standard deviation $\\sigma$ os this probability histogram by the standard deviation $s$ of the sample of 30 measurements.\n",
    "\n",
    "Later we will se how the bootstrap principle can be used to approximate the SE of estimates other than averages.\n",
    "    "
   ]
  }
 ],
 "metadata": {
  "interpreter": {
   "hash": "a1d94efe1d24309af45bba615405940b5dd5269e664316980b8e9835ad845ce9"
  },
  "kernelspec": {
   "display_name": "Python 3.8.10 ('statistics')",
   "language": "python",
   "name": "python3"
  },
  "language_info": {
   "name": "python",
   "version": "3.8.10"
  },
  "orig_nbformat": 4
 },
 "nbformat": 4,
 "nbformat_minor": 2
}

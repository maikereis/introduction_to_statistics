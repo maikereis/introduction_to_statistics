{
 "cells": [
  {
   "cell_type": "markdown",
   "metadata": {},
   "source": [
    "## More about confidence intervals\n",
    "\n",
    "The width of the confidence interval is determined by $zSE$, which is called the **margin of error**.<br>\n",
    "A larger sample size $n$ will result in a smaller margin of error since $SE=\\frac{\\sigma}{\\sqrt{n}}$, but we need four times the sample size to cut the width in half.\n",
    "\n",
    "We can also make the width smaller by making $z$ smaller, e.g. use a 80% confidence level instead of 95%. Then the price for more precision (i.e. shorter interval) is less confidence that it covers the parameter $\\mu$.\n",
    "\n",
    "There is an easy to remenber formula for a 95% confidence interval for a percentage:\n",
    "\n",
    "$$estimated{~}percentage \\pm \\frac{1}{\\sqrt{n}}$$\n",
    "\n",
    "That's because $\\sigma = \\sqrt{p(1-p)}  \\leqslant \\frac{1}{2}$ no matter what $p$ is.\n",
    "\n",
    "It is journalistic convention to use a 95% confidence level unless stated otherwise."
   ]
  }
 ],
 "metadata": {
  "interpreter": {
   "hash": "a1d94efe1d24309af45bba615405940b5dd5269e664316980b8e9835ad845ce9"
  },
  "kernelspec": {
   "display_name": "Python 3.8.10 ('statistics')",
   "language": "python",
   "name": "python3"
  },
  "language_info": {
   "name": "python",
   "version": "3.8.10"
  },
  "orig_nbformat": 4
 },
 "nbformat": 4,
 "nbformat_minor": 2
}

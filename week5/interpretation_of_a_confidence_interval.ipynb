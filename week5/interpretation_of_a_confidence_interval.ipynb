{
 "cells": [
  {
   "cell_type": "markdown",
   "metadata": {},
   "source": [
    "Let's look at the Gallup poll on the approval rating US President. Suppose 60% of the 140 million likely voters approve of the way the president is handling his job.\n",
    "\n",
    "Gallup polls 1,000 of them. The resulting approval percentage in the sample will be off the population percentage of 60% due to chance error. How much?\n",
    "\n",
    "The SE Tells us the likely size of the chance error.\n",
    "\n",
    "Confidence intervals give a more precise statement.\n",
    "\n",
    "According to the central limit theorem, the sample percentage follows the normal curve with expected value $\\mu = 60 \\%$ and SE equal to $\\frac{\\sigma}{\\sqrt{1000}} = \\frac{0.49}{31.6} = 1.6\\%$.\n",
    "(Because we sample from a population of 140 million labels, of which 60\\% are 1s and 40% are 0s.) \n",
    "\n",
    "By the empirical rule there is a 95% chance that the sample percentage is no more than 2 SEs away from the population percentage $\\mu$.\n",
    "\n",
    "But that is the same as saying that the population percentage is no more than 2 SEs away from the sample percentage.\n",
    "\n",
    "So once we compute the sample percentage from our sample, say 58%, then we can give a range of plausible values for the unknown population percentage by going 2 SEs in each direction:\n",
    "\n",
    "$[54.8\\%, 61.2\\%]$ is a 95% confidence interval for the population percentage.\n",
    "\n",
    "Why 'confidence' instead of 'probability'?\n",
    "\n",
    "The population percentage $\\mu$ is a fixed number, which either falls into [54.8%, 61.2%] or not. There are no chances involved.\n",
    "\n",
    "Rather, the chances are in the sampling procedure:\n",
    "a different sample of 1,000 voters will give a slightly different interval.\n",
    "\n",
    "If one does many polls (the Gallup poll is done frequently), then 95% of these intervals trap the population percentage, and 5% will miss it."
   ]
  }
 ],
 "metadata": {
  "interpreter": {
   "hash": "a1d94efe1d24309af45bba615405940b5dd5269e664316980b8e9835ad845ce9"
  },
  "kernelspec": {
   "display_name": "Python 3.8.10 ('statistics')",
   "language": "python",
   "name": "python3"
  },
  "language_info": {
   "name": "python",
   "version": "3.8.10"
  },
  "orig_nbformat": 4
 },
 "nbformat": 4,
 "nbformat_minor": 2
}

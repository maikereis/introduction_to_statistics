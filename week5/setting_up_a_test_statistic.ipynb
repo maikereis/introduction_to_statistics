{
 "cells": [
  {
   "cell_type": "markdown",
   "metadata": {},
   "source": [
    "## Setting Up a Test Statistic\n",
    "\n",
    "A test statistic measures how far away the data are from what we would expect if $H_0$ were true.\n",
    "\n",
    "The most common test statistic is the **z-statistic**:\n",
    "$$z=\\frac{observed - expected}{SE}$$\n",
    "\n",
    "'Obeserved' is a statistic that is appropriate for assessing $H_0$. In the example of the 10 coin tosses, appropriate statistics would be the number of tails or the percent of tails.\n",
    "\n",
    "The Random variable will assume the binomial distribution, which the $mean=np$ and $var=npq=np(1-p)$\n",
    "\n",
    "'Expected' and SE are the expected value and the SE of this statistic, *computed under the assumption that $H_0$ is true*.\n",
    "\n",
    "In the example: Using the formular for the sum of 0/1 labels we get $'expected' = 10 \\times \\frac{1}{2}$ and $SE=\\sqrt{10}\\sqrt{\\frac{1}{2}\\times\\frac{1}{2}}=1.58$. So<br>\n",
    "$$z=\\frac{7-5}{1.58}=1.27$$"
   ]
  }
 ],
 "metadata": {
  "interpreter": {
   "hash": "a1d94efe1d24309af45bba615405940b5dd5269e664316980b8e9835ad845ce9"
  },
  "kernelspec": {
   "display_name": "Python 3.8.10 ('statistics')",
   "language": "python",
   "name": "python3"
  },
  "language_info": {
   "name": "python",
   "version": "3.8.10"
  },
  "orig_nbformat": 4
 },
 "nbformat": 4,
 "nbformat_minor": 2
}

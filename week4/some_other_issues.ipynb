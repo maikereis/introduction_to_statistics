{
 "cells": [
  {
   "cell_type": "markdown",
   "metadata": {},
   "source": [
    "## Some other issues\n",
    "\n",
    "Avoid predicting $y$ by **extrapolation**, i.e. at x-values that are outside the range of the x-values that where used for the regression. The linear relationship often breaks down outside a certain range.\n",
    "\n",
    "Beware of data that are summaries (e.g. average of some data). Those are less variable than individual observations and correlations between averages tend to overstate the strength of the relationship.\n",
    "\n",
    "Regression analyses often report 'R-squared': $R^2=r^2$. It gives the fraction of the variation in the y-values that is explained by the regression line. (So $1-r^2$ is the fraction of the variation in the y-values that is left in the residuals.)"
   ]
  }
 ],
 "metadata": {
  "interpreter": {
   "hash": "a1d94efe1d24309af45bba615405940b5dd5269e664316980b8e9835ad845ce9"
  },
  "kernelspec": {
   "display_name": "Python 3.8.10 ('statistics')",
   "language": "python",
   "name": "python3"
  },
  "language_info": {
   "name": "python",
   "version": "3.8.10"
  },
  "orig_nbformat": 4
 },
 "nbformat": 4,
 "nbformat_minor": 2
}

{
 "cells": [
  {
   "cell_type": "markdown",
   "metadata": {},
   "source": [
    "## Regression to the Mean, The Regression Fallacy\n",
    "\n",
    "The main use of regression is to predict $y$ from $x$:<br>\n",
    "Given $x$, predict $y$ to be $\\hat{y}=a+bx$.\n",
    "\n",
    "The prediction for $y$ at $x=\\tilde{x}$ is simply $\\hat{y}=\\tilde{y}$.\n",
    "\n",
    "But $b=r\\frac{s_y}{s_x}$ means that if $x$ is one standar deviation ${s}_x$ above $\\tilde{x}$, then the predicted $\\hat{y}$ is only $rs_y$ above $\\tilde{y}$\n",
    "\n",
    "Since $r$ is between -1 and 1, the prediction is 'towars the mean': $\\hat{y}$ is fewer standard deviations away from $\\tilde{y}$ than $x$ is from $\\tilde{x}$.\n",
    "\n",
    "This is called regression to the mean (or: the **regression effect**). In can be observed in data whose scatter is football-shaped such as the exam score: In such a test-retest situation, the top group on the test will drop down somewhat on the retest, while the bottom group moves up.\n",
    "\n",
    "A heuristic explanation is this: To score among the very top on the midterm requires excellent preparation as well as some luck. This luck may not be there any more on the final exam, and so we expect this group to fall back a bit.\n",
    "\n",
    "This effect is simply a consequence of there being a scatter around the line. Errouneously assuming that this occurs due to some action(e.g. 'the top scorers on the midterm slackened off') is the **regression fallacy**."
   ]
  }
 ],
 "metadata": {
  "interpreter": {
   "hash": "a1d94efe1d24309af45bba615405940b5dd5269e664316980b8e9835ad845ce9"
  },
  "kernelspec": {
   "display_name": "Python 3.8.10 ('statistics')",
   "language": "python",
   "name": "python3"
  },
  "language_info": {
   "name": "python",
   "version": "3.8.10"
  },
  "orig_nbformat": 4
 },
 "nbformat": 4,
 "nbformat_minor": 2
}

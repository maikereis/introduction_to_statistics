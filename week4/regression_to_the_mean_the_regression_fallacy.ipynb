{
 "cells": [
  {
   "cell_type": "markdown",
   "metadata": {},
   "source": [
    "## Regression to the Mean, The Regression Fallacy\n",
    "\n",
    "The main use of regression is to predict $y$ from $x$:<br>\n",
    "Given $x$, predict $y$ to be $\\hat{y}=a+bx$.\n",
    "\n",
    "The prediction for $y$ at $x=\\tilde{x}$ is simply $\\hat{y}=\\tilde{y}$.\n",
    "\n",
    "But $b=r\\frac{s_y}{s_x}$ means that if $x$ is one standar deviation ${s}_x$ above $\\tilde{x}$, then the predicted $\\hat{y}$ is only $rs_y$ above $\\tilde{y}$\n",
    "\n",
    "Since $r$ is between -1 and 1, the prediction is 'towars the mean': $\\hat{y}$ is fewer standard deviations away from $\\tilde{y}$ than $x$ is from $\\tilde{x}$"
   ]
  }
 ],
 "metadata": {
  "interpreter": {
   "hash": "a1d94efe1d24309af45bba615405940b5dd5269e664316980b8e9835ad845ce9"
  },
  "kernelspec": {
   "display_name": "Python 3.8.10 ('statistics')",
   "language": "python",
   "name": "python3"
  },
  "language_info": {
   "name": "python",
   "version": "3.8.10"
  },
  "orig_nbformat": 4
 },
 "nbformat": 4,
 "nbformat_minor": 2
}

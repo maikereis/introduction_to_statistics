{
 "cells": [
  {
   "cell_type": "markdown",
   "metadata": {},
   "source": [
    "## Predicting y from x and x from y\n",
    "\n",
    "If we are given $x$, then we use the regression line $\\hat{y}=a+bx$ to predict $y$. To find this regression line we need only $\\bar{x}, \\bar{y}, s_x, s_y$ and $r$.\n",
    "\n",
    "---\n",
    "\n",
    "$\\overline{midterm}=49.5$, $\\overline{final}=69.1$, $s_{mid}=10.2$, $s_{final}=11.8$, $r=0.67$\n",
    "Predict the final exam socre of a student who scored 41 on the midterm.\n",
    "\n",
    "$41$ is $8.5$ below average which represents $0.83\\times s_{md}$ below average.\n",
    "\n",
    "$r\\times{0.83}\\times{s_{final}}$ below average\n",
    "\n",
    "$=69.1 - r\\times{0.83}\\times{11.8}$\n",
    "\n",
    "$=69.1 - 0.67\\times{0.83}\\times{11.8} = 62.5$  \n",
    "\n",
    "---\n",
    "\n",
    "Predict the midterm score of a student who scored 89 on the final.\n",
    "\n",
    "When predicting $x$ from $y$ it is a mistake to use the regression line $\\hat{y}=a+bx$, derived for regressing $y$ on $x$, and solve for $x$. This is because regressing $x$ on $y$ will result in a different regression line.\n",
    "\n",
    "To avoid confusing these, aways put the predictor on the x-axis and proceed as on the previous slide.\n",
    "\n",
    "$89$ is $9.9$ above average which represents $0.84\\times s_{final}$ above average.\n",
    "\n",
    "$r\\times{0.84\\times{s_{md}}}$ above average\n",
    "\n",
    "$=49.5 + r\\times{0.84\\times{10.2}}$\n",
    "\n",
    "$=49.5 + 0.67\\times{0.84}\\times{10.2} = 55.2$ "
   ]
  }
 ],
 "metadata": {
  "interpreter": {
   "hash": "a1d94efe1d24309af45bba615405940b5dd5269e664316980b8e9835ad845ce9"
  },
  "kernelspec": {
   "display_name": "Python 3.8.10 ('statistics')",
   "language": "python",
   "name": "python3"
  },
  "language_info": {
   "name": "python",
   "version": "3.8.10"
  },
  "orig_nbformat": 4
 },
 "nbformat": 4,
 "nbformat_minor": 2
}

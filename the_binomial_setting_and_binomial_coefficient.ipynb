{
 "cells": [
  {
   "cell_type": "markdown",
   "metadata": {},
   "source": [
    "## The Binomial Setting\n",
    "\n",
    "We saw that for a newborn baby, there is a 49% chance that is a girl. What are the chances that 2 out of 3 newborns girls?\n",
    "\n",
    "We can compute this by listing all the possibilities (*total enumeration*):\n",
    "\n",
    "$ P(2\\space out \\space of \\space 3 \\space are \\space girls) = P(GGB \\space or \\space GBG \\space or \\space BGG) $\n",
    "\n",
    "using the addition rule (the events are mutually exclusive)\n",
    "\n",
    "$ = P(GGB) + P(GBG) + P(BGG) $\n",
    "\n",
    "and because the events are independent\n",
    "\n",
    "$ = P(G)P(G)P(B) +  P(G)P(B)P(G) +...$\n",
    "\n",
    "$ = 3 \\times (0.49)(0.49)(0.51)  $\n",
    "\n",
    "$ = 0.3673 $\n",
    "\n",
    "What about P(2 out of 5 newborns are girls)?\n",
    "\n",
    "In principle, we can compute this in the same way. However, there are now 10 possibilities to arrange 2 girls among 5 newborns:\n",
    "\n",
    "$ GGBBB, \\space GBGBB, \\space GBBGB,... $\n",
    "\n",
    "The number of possibilities grows very quickly as $n$ gets larger. Fortunately, there is a formula for it:\n",
    "\n",
    "The binomial coefficient counts the number of ways one can arrange $k$ successes in $n$ experiments:\n",
    "\n",
    "$ \\binom{n}{k} = \\frac{n!}{k!(n-k)!} \\space\\space\\space\\space\\space $ where  $n!=1 \\times 2 \\times 3 \\times....\\times n$\n",
    "\n",
    "Solving the first example (2 girls out of 3 newborns):\n",
    "\n",
    "$n=3, k=2$\n",
    "\n",
    "$ \\binom{3}{2} = \\frac{3!}{2! \\cdot(3-2)!} = = \\frac{3 \\times 2 \\times 1}{2\\times1 \\times(1)} =3$\n",
    "\n"
   ]
  }
 ],
 "metadata": {
  "interpreter": {
   "hash": "a1d94efe1d24309af45bba615405940b5dd5269e664316980b8e9835ad845ce9"
  },
  "kernelspec": {
   "display_name": "Python 3.8.10 64-bit ('statistics': virtualenv)",
   "language": "python",
   "name": "python3"
  },
  "language_info": {
   "name": "python",
   "version": "3.8.10"
  },
  "orig_nbformat": 4
 },
 "nbformat": 4,
 "nbformat_minor": 2
}
